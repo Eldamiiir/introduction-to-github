{
  "cells": [
    {
      "cell_type": "markdown",
      "metadata": {
        "id": "view-in-github",
        "colab_type": "text"
      },
      "source": [
        "<a href=\"https://colab.research.google.com/github/Eldamiiir/introduction-to-github/blob/main/%EB%A7%A4%EC%9D%BC%EB%AF%B8%EC%82%AC_%EA%B8%B0%EB%8F%84_%ED%85%8D%EC%8A%A4%ED%8A%B8_%EC%B6%94%EC%B6%9C.ipynb\" target=\"_parent\"><img src=\"https://colab.research.google.com/assets/colab-badge.svg\" alt=\"Open In Colab\"/></a>"
      ]
    },
    {
      "cell_type": "code",
      "execution_count": 2,
      "metadata": {
        "colab": {
          "base_uri": "https://localhost:8080/"
        },
        "id": "eOQ3Yc3rwE1B",
        "outputId": "c4e4421f-04ae-4bca-8de9-a54256b52acb"
      },
      "outputs": [
        {
          "output_type": "stream",
          "name": "stdout",
          "text": [
            "Requirement already satisfied: requests in /usr/local/lib/python3.10/dist-packages (2.31.0)\n",
            "Requirement already satisfied: charset-normalizer<4,>=2 in /usr/local/lib/python3.10/dist-packages (from requests) (3.2.0)\n",
            "Requirement already satisfied: idna<4,>=2.5 in /usr/local/lib/python3.10/dist-packages (from requests) (3.4)\n",
            "Requirement already satisfied: urllib3<3,>=1.21.1 in /usr/local/lib/python3.10/dist-packages (from requests) (2.0.4)\n",
            "Requirement already satisfied: certifi>=2017.4.17 in /usr/local/lib/python3.10/dist-packages (from requests) (2023.7.22)\n"
          ]
        }
      ],
      "source": [
        "pip install requests"
      ],
      "id": "eOQ3Yc3rwE1B"
    },
    {
      "cell_type": "code",
      "execution_count": 3,
      "metadata": {
        "id": "RJLIB0yHwE1F"
      },
      "outputs": [],
      "source": [
        "#가장빠른 일요일 찾기  =   ersu\n",
        "from datetime import date, timedelta\n",
        "today = date.today()\n",
        "toweek = 6 - today.weekday()\n",
        "eaweek = timedelta(days=toweek)\n",
        "earliest_sunday = today + eaweek\n",
        "ersu=earliest_sunday.strftime(\"%Y%m%d\")"
      ],
      "id": "RJLIB0yHwE1F"
    },
    {
      "cell_type": "code",
      "execution_count": 4,
      "metadata": {
        "id": "pREruJ37wE1G"
      },
      "outputs": [],
      "source": [
        "# requests 패키지 가져오기\n",
        "import requests\n",
        "\n",
        "# 가져올 url 문자열로 입력\n",
        "url = 'https://missa.cbck.or.kr/DailyMissa/'+'%s'%ersu\n",
        "\n",
        "# requests의 get함수를 이용해 해당 url로 부터 html이 담긴 자료를 받아옴\n",
        "response = requests.get(url)\n",
        "\n",
        "# 우리가 얻고자 하는 html 문서가 여기에 담기게 됨\n",
        "html_text = response.text"
      ],
      "id": "pREruJ37wE1G"
    },
    {
      "cell_type": "code",
      "execution_count": null,
      "metadata": {
        "colab": {
          "base_uri": "https://localhost:8080/"
        },
        "id": "WYPi2XrFwE1G",
        "outputId": "95482baf-e1bf-4138-97bc-028911fe3a98"
      },
      "outputs": [
        {
          "output_type": "stream",
          "name": "stdout",
          "text": [
            "Requirement already satisfied: beautifulsoup4 in /usr/local/lib/python3.10/dist-packages (4.11.2)\n",
            "Requirement already satisfied: soupsieve>1.2 in /usr/local/lib/python3.10/dist-packages (from beautifulsoup4) (2.5)\n"
          ]
        }
      ],
      "source": [
        "pip install beautifulsoup4"
      ],
      "id": "WYPi2XrFwE1G"
    },
    {
      "cell_type": "code",
      "execution_count": 5,
      "metadata": {
        "id": "bvxnFSYVwE1H"
      },
      "outputs": [],
      "source": [
        "# BeautifulSoup 패키지 불러오기\n",
        "# 주로 bs로 이름을 간단히 만들어서 사용함\n",
        "from bs4 import BeautifulSoup as bs\n",
        "\n",
        "# html을 잘 정리된 형태로 변환\n",
        "soup = bs(response.text, 'html.parser')\n",
        "\n",
        "#원하는 텍스트 추출\n",
        "#▥\n",
        "#step6.뉴스 제목 텍스트 추출\n",
        "\n",
        "prays = soup.select(\"div.col-12.col-12-xsmall\")\n",
        "\n",
        "for i in prays:\n",
        "    title = i.get_text()\n",
        "    #print(title)"
      ],
      "id": "bvxnFSYVwE1H"
    },
    {
      "cell_type": "code",
      "execution_count": 8,
      "metadata": {
        "colab": {
          "base_uri": "https://localhost:8080/"
        },
        "id": "A4K0y0x1wE1H",
        "outputId": "e97cc828-87dc-4980-8f56-31e26d4a27ea"
      },
      "outputs": [
        {
          "output_type": "stream",
          "name": "stdout",
          "text": [
            "----본기도\n",
            "하느님, 만물을 창조하시고 다스리시니\r\n",
            "저희를 굽어보시어\r\n",
            "저희가 하느님의 자비를 깨닫고\r\n",
            "마음을 다하여 하느님을 섬기게 하소서.\r\n",
            "성부와 성령과 함께 천주로서영원히 살아 계시며 다스리시는 성자우리 주 예수 그리스도를 통하여 비나이다.\n",
            "\n",
            "----제1독서제목\n",
            "▥ 집회서의 말씀입니다.27,30―28,7 \n",
            "\n",
            "----제1독서\n",
            "\r\n",
            "                                30 분노와 진노 역시 혐오스러운 것인데도 죄지은 사람은 이것들을 지니고 있다.\r\n",
            "28,1 복수하는 자는 주님의 복수를 만나게 되리라.\r\n",
            "그분께서는 그의 죄악을 엄격히 헤아리시리라.\r\n",
            "2 네 이웃의 불의를 용서하여라.\r\n",
            "그러면 네가 간청할 때 네 죄도 없어지리라.\r\n",
            "3 인간이 인간에게 화를 품고서 주님께 치유를 구할 수 있겠느냐?\r\n",
            "4 인간이 같은 인간에게 자비를 품지 않으면서\r\n",
            "자기 죄의 용서를 청할 수 있겠느냐?\r\n",
            "5 죽을 몸으로 태어난 인간이 분노를 품고 있으면\r\n",
            "누가 그의 죄를 사해 줄 수 있겠느냐?\r\n",
            "6 종말을 생각하고 적개심을 버려라. 파멸과 죽음을 생각하고 계명에 충실하여라.\r\n",
            "7 계명을 기억하고 이웃에게 분노하지 마라.\r\n",
            "지극히 높으신 분의 계약을 기억하고 잘못을 눈감아 주어라.\r\n",
            "주님의 말씀입니다.\r\n",
            "                                ◎ 하느님, 감사합니다.\r\n",
            "                            \n",
            "\n",
            "----화답송\n",
            "\r\n",
            "                                ◎ 주님은 자비롭고 너그러우시며 분노에는 더디시나 자애는 넘치시네.\r\n",
            "○ 내 영혼아, 주님을 찬미하여라. 내 안의 모든 것도 거룩하신 그 이름 찬미하여라. 내 영혼아, 주님을 찬미하여라. 그분의 온갖 은혜 하나도 잊지 마라. ◎\r\n",
            "○ 네 모든 잘못을 용서하시고, 네 모든 아픔을 없애시는 분. 네 목숨을 구렁에서 구해 내시고, 자애와 자비의 관을 씌우시는 분. ◎\r\n",
            "○ 끝까지 캐묻지 않으시고, 끝끝내 화를 품지 않으시네. 우리를 죄대로 다루지 않으시고, 우리의 잘못대로 갚지 않으시네. ◎\r\n",
            "○ 하늘이 땅 위에 드높은 것처럼, 당신을 경외하는 이에게 자애가 넘치시네. 해 뜨는 데서 해 지는 데가 먼 것처럼, 우리의 허물들을 멀리 치우시네. ◎\r\n",
            "                                \r\n",
            "                            \n",
            "\n",
            "----제2독서제목\n",
            "▥ 사도 바오로의 로마서 말씀입니다.14,7-9 \n",
            "\n",
            "----제2독서\n",
            "\r\n",
            "                                ◎ 주님은 자비롭고 너그러우시며 분노에는 더디시나 자애는 넘치시네.\r\n",
            "○ 내 영혼아, 주님을 찬미하여라. 내 안의 모든 것도 거룩하신 그 이름 찬미하여라. 내 영혼아, 주님을 찬미하여라. 그분의 온갖 은혜 하나도 잊지 마라. ◎\r\n",
            "○ 네 모든 잘못을 용서하시고, 네 모든 아픔을 없애시는 분. 네 목숨을 구렁에서 구해 내시고, 자애와 자비의 관을 씌우시는 분. ◎\r\n",
            "○ 끝까지 캐묻지 않으시고, 끝끝내 화를 품지 않으시네. 우리를 죄대로 다루지 않으시고, 우리의 잘못대로 갚지 않으시네. ◎\r\n",
            "○ 하늘이 땅 위에 드높은 것처럼, 당신을 경외하는 이에게 자애가 넘치시네. 해 뜨는 데서 해 지는 데가 먼 것처럼, 우리의 허물들을 멀리 치우시네. ◎\r\n",
            "                                \r\n",
            "                            \n",
            "\n",
            "----복음환호송\n",
            "\r\n",
            "                                ◎ 알렐루야.\r\n",
            "○ 주님이 말씀하신다. 내가 너희에게 새 계명을 준다. 서로 사랑하여라. 내가 너희를 사랑한 것처럼 너희도 서로 사랑하여라.\r\n",
            "◎ 알렐루야.\r\n",
            "                                \r\n",
            "                            \n",
            "\n",
            "----복음이름\n",
            "✠ 마태오가 전한 거룩한 복음입니다.18,21-35 \n",
            "\n",
            "----복음\n",
            "\r\n",
            "                                21 그때에 베드로가 예수님께 다가와,\r\n",
            "“주님, 제 형제가 저에게 죄를 지으면 몇 번이나 용서해 주어야 합니까?\r\n",
            "일곱 번까지 해야 합니까?” 하고 물었다.\r\n",
            "22 예수님께서 그에게 대답하셨다.\r\n",
            "“내가 너에게 말한다.\r\n",
            "일곱 번이 아니라 일흔일곱 번까지라도 용서해야 한다.\r\n",
            "23 그러므로 하늘 나라는 자기 종들과 셈을 하려는 어떤 임금에게 비길 수 있다.\r\n",
            "24 임금이 셈을 하기 시작하자 만 탈렌트를 빚진 사람 하나가 끌려왔다.\r\n",
            "25 그런데 그가 빚을 갚을 길이 없으므로,\r\n",
            "주인은 그 종에게 자신과 아내와 자식과\r\n",
            "그 밖에 가진 것을 다 팔아서 갚으라고 명령하였다.\r\n",
            "26 그러자 그 종이 엎드려 절하며,\r\n",
            "‘제발 참아 주십시오. 제가 다 갚겠습니다.’ 하고 말하였다.\r\n",
            "27 그 종의 주인은 가엾은 마음이 들어,\r\n",
            "그를 놓아주고 부채도 탕감해 주었다.\r\n",
            "28 그런데 그 종이 나가서 자기에게 백 데나리온을 빚진 동료 하나를 만났다.\r\n",
            "그러자 그를 붙들어 멱살을 잡고\r\n",
            "‘빚진 것을 갚아라.’ 하고 말하였다.\r\n",
            "29 그의 동료는 엎드려서, ‘제발 참아 주게. 내가 갚겠네.’ 하고 청하였다.\r\n",
            "30 그러나 그는 들어주려고 하지 않았다.\r\n",
            "그리고 가서 그 동료가 빚진 것을 다 갚을 때까지 감옥에 가두었다.\r\n",
            "31 동료들이 그렇게 벌어진 일을 보고 너무 안타까운 나머지,\r\n",
            "주인에게 가서 그 일을 죄다 일렀다.\r\n",
            "32 그러자 주인이 그 종을 불러들여 말하였다.\r\n",
            "‘이 악한 종아, 네가 청하기에 나는 너에게 빚을 다 탕감해 주었다.\r\n",
            "33 내가 너에게 자비를 베푼 것처럼\r\n",
            "너도 네 동료에게 자비를 베풀었어야 하지 않느냐?’\r\n",
            "34 그러고 나서 화가 난 주인은 그를 고문 형리에게 넘겨\r\n",
            "빚진 것을 다 갚게 하였다.\r\n",
            "35 너희가 저마다 자기 형제를 마음으로부터 용서하지 않으면,\r\n",
            "하늘의 내 아버지께서도 너희에게 그와 같이 하실 것이다.”\r\n",
            "주님의 말씀입니다.\r\n",
            "                                ◎ 그리스도님, 찬미합니다.\r\n",
            "                            \n",
            "\n",
            "----예물기도\n",
            "\r\n",
            "                                주님, 저희의 간절한 기도를 들으시고\r\n",
            "이 제물을 너그러이 받으시어\r\n",
            "주님의 영광을 위하여 저희가 드리는 이 제사가\r\n",
            "모든 이의 구원에 도움이 되게 하소서.\r\n",
            "우리 주 그리스도를 통하여 비나이다.\r\n",
            "                                \r\n",
            "                            \n",
            "\n",
            "----영성체기도\n",
            "\r\n",
            "                                하느님, 당신 자애가 얼마나 존귀하옵니까! 모든 사람들이 당신 날개 그늘에 피신하나이다.\r\n",
            "                                \r\n",
            "                            \n",
            "\n"
          ]
        }
      ],
      "source": [
        "import requests\n",
        "from lxml import html\n",
        "\n",
        "# 웹 페이지 내용 가져오기\n",
        "response = requests.get(url)\n",
        "response.raise_for_status()\n",
        "tree = html.fromstring(response.content)\n",
        "\n",
        "def extract_text(xpath_expression):\n",
        "    try:\n",
        "        # XPath를 사용하여 요소 찾기\n",
        "        target_paragraphs = tree.xpath(xpath_expression)\n",
        "\n",
        "        #텍스트추출\n",
        "        extracted_text = \"\"\n",
        "        if target_paragraphs:\n",
        "            for paragraph in target_paragraphs:\n",
        "                extracted_text += paragraph.text_content() + \"\\n\"\n",
        "        else:\n",
        "            print(\"원하는 부분을 찾을 수 없습니다.\")\n",
        "            return None\n",
        "\n",
        "        return extracted_text\n",
        "    except Exception as e:\n",
        "        print(f\"오류 발생: {e}\")\n",
        "        return None\n",
        "\n",
        "#본기도\n",
        "print('----본기도')\n",
        "bon_gido = extract_text('//*[@id=\"missa-detail\"]/div[3]/div[2]/div/div[1]')\n",
        "print(bon_gido)\n",
        "\n",
        "#제1독서제목\n",
        "print('----제1독서제목')\n",
        "je1_dokseo_name = extract_text('//*[@id=\"missa-detail\"]/div[4]/div[2]/div/div')\n",
        "print(je1_dokseo_name)\n",
        "\n",
        "#1독서\n",
        "print('----제1독서')\n",
        "je1_dokseo = extract_text('//*[@id=\"missa-detail\"]/div[4]/div[3]/div')\n",
        "print(je1_dokseo)\n",
        "\n",
        "#화답송\n",
        "print('----화답송')\n",
        "hwadap_song = extract_text('//*[@id=\"missa-detail\"]/div[5]/div[2]/div')\n",
        "print(hwadap_song)\n",
        "\n",
        "#제2독서제목\n",
        "print('----제2독서제목')\n",
        "je2_dokseo_name = extract_text('//*[@id=\"missa-detail\"]/div[6]/div[2]/div/div')\n",
        "print(je2_dokseo_name)\n",
        "\n",
        "#제2독서\n",
        "print('----제2독서')\n",
        "je2_dokseo = extract_text('//*[@id=\"missa-detail\"]/div[5]/div[2]/div')\n",
        "print(je2_dokseo)\n",
        "\n",
        "#복음환호송\n",
        "print('----복음환호송')\n",
        "goodnews_hwanho_song = extract_text('//*[@id=\"missa-detail\"]/div[7]/div[2]/div')\n",
        "print(goodnews_hwanho_song)\n",
        "\n",
        "#복음이름\n",
        "print('----복음이름')\n",
        "goodnews_name = extract_text('//*[@id=\"missa-detail\"]/div[8]/div[2]/div/div')\n",
        "print(goodnews_name)\n",
        "\n",
        "#복음\n",
        "print('----복음')\n",
        "goodnews = extract_text('//*[@id=\"missa-detail\"]/div[8]/div[3]/div')\n",
        "print(goodnews)\n",
        "\n",
        "#예물기도\n",
        "print('----예물기도')\n",
        "gift_prayer = extract_text('//*[@id=\"missa-detail\"]/div[10]/div[2]/div')\n",
        "print(gift_prayer)\n",
        "\n",
        "#영성체기도\n",
        "print('----영성체기도')\n",
        "communion_prayer = extract_text('//*[@id=\"missa-detail\"]/div[12]/div[2]/div')\n",
        "print(communion_prayer)\n",
        "\n",
        "#f = open(\"c:\\Users\\leech\\mailmisa.txt\",\"w\")"
      ],
      "id": "A4K0y0x1wE1H"
    },
    {
      "cell_type": "code",
      "execution_count": null,
      "metadata": {
        "id": "TRkf6LP9wE1I",
        "outputId": "a9d25ac7-cca3-476a-9e4b-34d2593b22a3",
        "colab": {
          "base_uri": "https://localhost:8080/"
        }
      },
      "outputs": [
        {
          "output_type": "stream",
          "name": "stdout",
          "text": [
            "Collecting python-pptx\n",
            "  Downloading python_pptx-0.6.22-py3-none-any.whl (471 kB)\n",
            "\u001b[2K     \u001b[90m━━━━━━━━━━━━━━━━━━━━━━━━━━━━━━━━━━━━━━━\u001b[0m \u001b[32m471.5/471.5 kB\u001b[0m \u001b[31m5.4 MB/s\u001b[0m eta \u001b[36m0:00:00\u001b[0m\n",
            "\u001b[?25hRequirement already satisfied: lxml>=3.1.0 in /usr/local/lib/python3.10/dist-packages (from python-pptx) (4.9.3)\n",
            "Requirement already satisfied: Pillow<=9.5.0,>=3.3.2 in /usr/local/lib/python3.10/dist-packages (from python-pptx) (9.4.0)\n",
            "Collecting XlsxWriter>=0.5.7 (from python-pptx)\n",
            "  Downloading XlsxWriter-3.1.3-py3-none-any.whl (153 kB)\n",
            "\u001b[2K     \u001b[90m━━━━━━━━━━━━━━━━━━━━━━━━━━━━━━━━━━━━━━━\u001b[0m \u001b[32m153.2/153.2 kB\u001b[0m \u001b[31m6.2 MB/s\u001b[0m eta \u001b[36m0:00:00\u001b[0m\n",
            "\u001b[?25hInstalling collected packages: XlsxWriter, python-pptx\n",
            "Successfully installed XlsxWriter-3.1.3 python-pptx-0.6.22\n"
          ]
        }
      ],
      "source": [
        "pip install python-pptx"
      ],
      "id": "TRkf6LP9wE1I"
    },
    {
      "cell_type": "code",
      "execution_count": null,
      "metadata": {
        "id": "LC7lFRDYwE1J"
      },
      "outputs": [],
      "source": [
        "from pptx import Presentation # 라이브러리\n",
        "from pptx.util import Inches # 사진, 표등을 그리기 위해\n",
        "\n",
        "prs = Presentation() # 파워포인트 객체 선언\n",
        "\n",
        "for i in range(0, 11):\n",
        "    title_slide_layout = prs.slide_layouts[i]  # 슬라이드 종류 선택\n",
        "    slide = prs.slides.add_slide(title_slide_layout) # 슬라이드 추가\n",
        "\n",
        "prs.save('add all slides.pptx')"
      ],
      "id": "LC7lFRDYwE1J"
    },
    {
      "cell_type": "code",
      "source": [
        "from os import write\n",
        "f= open(\"Entity01.txt\",\"w+\")\n",
        "f.write(bon_gido)\n",
        "f.write(je1_dokseo_name)\n",
        "f.write(je1_dokseo)\n",
        "f.write(hwadap_song)\n",
        "f.write(je2_dokseo_name)\n",
        "f.write(je2_dokseo)\n",
        "f.write(goodnews_hwanho_song)\n",
        "f.write(goodnews_name)\n",
        "f.write(goodnews)\n",
        "f.write(gift_prayer)\n",
        "f.write(communion_prayer)\n",
        "f.close()"
      ],
      "metadata": {
        "id": "tosJW1_T5zzo"
      },
      "id": "tosJW1_T5zzo",
      "execution_count": 9,
      "outputs": []
    }
  ],
  "metadata": {
    "kernelspec": {
      "display_name": "Python 3",
      "language": "python",
      "name": "python3"
    },
    "language_info": {
      "codemirror_mode": {
        "name": "ipython",
        "version": 3
      },
      "file_extension": ".py",
      "mimetype": "text/x-python",
      "name": "python",
      "nbconvert_exporter": "python",
      "pygments_lexer": "ipython3",
      "version": "3.8.3"
    },
    "colab": {
      "provenance": [],
      "toc_visible": true,
      "include_colab_link": true
    }
  },
  "nbformat": 4,
  "nbformat_minor": 5
}